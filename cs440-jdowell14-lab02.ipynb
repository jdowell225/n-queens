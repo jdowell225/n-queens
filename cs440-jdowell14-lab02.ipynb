{
 "cells": [
  {
   "cell_type": "markdown",
   "metadata": {},
   "source": [
    "Use\ta\tsingle\tJupyter\tnotebook\tto\tdo\tthe\tfollowing:\n",
    "\n",
    "• Implement\tand\ttest\tthe\tpython\tfunctions\tneeded\tto\tsolve\tthe\tN=8 queens (row\t\n",
    "oriented) problem\tusing k-beam search\t(with\tk\tas\ta\tparameter)\tas\tdescribed\tby\tAIMA.\n",
    "\n",
    "• Test\t\tyour search\tby\tcalling\tit\trepeatedly\t(10\ttimes?\t\t100\ttimes?)\tand\tcount/average\tthe\t\n",
    "results..\t\t\tCount\tnumber\tof\ttrials.\t\tCount\tnumber\tof\ttimes\tthe\tgoal\twas\tfound.\t\tDerive\t\n",
    "the\tpercentage\tgoal\twas\tfound\tand\tthe\tmean\tvalue\tof\tthe\tobjective\tfunction.\t\n",
    "\n",
    "Note\tthat\tthe\thighest\tvalue\tfor\tnon-attacking\tqueens\tis\tN*(N-1)\t\twhere\tN\tis\t4\tin\tthe\t4-\n",
    "Queens\tproblem\tand\tN\tis\t8\tfor\tthe\t8-Queens\tproblem.\t\n",
    "\n",
    "• Graph/plot\tthe\tresults:\t\t\t\n",
    "o Percent\tof\ttrials the\tgoal\twas\tachieved vs\tk, where\tk\tvaries\tfrom\t1\tto\t100\n",
    "\n",
    "o average\t\tobjective\tfunction\tvalue\tvs\tk, where\tk\tvaries\tfrom\t1\tto\t100\n",
    "\n",
    "• Use\tmarkdown\ton\tyour\tfinal\tcell\tto\tanswer\tthe\tfollowing\tquestions.\t\tIn\tall\tcases\tjustify\t\n",
    "your\tanswer\twith at\tleast\tone\tparagraph\tof\tnarrative.\n",
    "\n",
    "o Is\tk-beam\tsearch\tcomplete?\t\t\t\n",
    "\n",
    "o Is\tthere\ta\tpoint\twhere\ta\thigher\tk\tno\tlonger\tprovides\tvalue?\t\tExplain\twhy\tor\twhy\t\n",
    "not?\n",
    "\n",
    "o Is\tk-beam\tsearch\teffective\twhen\tthe\tnumber\tof\tstates\tis\tinfinite?\n",
    "\n",
    "\n",
    "Extra\tCredit:\n",
    "Implement\tthe\tgenetics\talgorithm\t(GA)\tdiscussed\tin\tAIMA\twhere\tthe\tpopulation\tstarts\tat\tk.\t\t\n",
    "And\trepeat\tthe\tabove."
   ]
  },
  {
   "cell_type": "code",
   "execution_count": 1,
   "metadata": {
    "collapsed": true
   },
   "outputs": [],
   "source": [
    "from matplotlib import pyplot as plt"
   ]
  },
  {
   "cell_type": "code",
   "execution_count": 2,
   "metadata": {
    "collapsed": true
   },
   "outputs": [],
   "source": [
    "import random\n",
    "\n",
    "def restart(num):\n",
    "    \"\"\"\n",
    "    The restart function establishes a starting state for the n-queens problem, where the n is the given num\n",
    "    \"\"\"\n",
    "    state = [0]*num\n",
    "    for i in range(num):\n",
    "        r = random.randrange(num)\n",
    "        state[i] = r\n",
    "    return state\n"
   ]
  },
  {
   "cell_type": "code",
   "execution_count": 3,
   "metadata": {
    "collapsed": true
   },
   "outputs": [],
   "source": [
    "import math\n",
    "\n",
    "def isAttacking(s, q1, q2):\n",
    "    \"\"\"\n",
    "    The isAttacking function takes in a state and two queens, and checks to see if the queens are attacking one another\n",
    "    \"\"\"\n",
    "    hdelta = math.fabs(s[q1]-s[q2])\n",
    "    if hdelta == 0: #same column\n",
    "        return True\n",
    "    \n",
    "    vdelta = math.fabs(q1-q2) #on diagonal\n",
    "    if hdelta == vdelta:\n",
    "        return True\n",
    "    return False"
   ]
  },
  {
   "cell_type": "code",
   "execution_count": 4,
   "metadata": {
    "collapsed": true
   },
   "outputs": [],
   "source": [
    "def objf(state):\n",
    "    \"\"\"\n",
    "    The objf function takes in a state, and returns the number of queens that are not attacking one another\n",
    "    \"\"\"\n",
    "    sum = 0\n",
    "    for q1 in range(len(state)):\n",
    "        for q2 in range(len(state)):\n",
    "            if q1==q2:\n",
    "                continue\n",
    "            if not isAttacking(state, q1, q2):\n",
    "                sum+=1\n",
    "    return sum\n"
   ]
  },
  {
   "cell_type": "code",
   "execution_count": 5,
   "metadata": {
    "collapsed": true
   },
   "outputs": [],
   "source": [
    "def display(board):\n",
    "    \"\"\"\n",
    "    The display function displays a state in the n queens problem\n",
    "    \"\"\"\n",
    "    for row in range(len(board)):\n",
    "        rowStr = str(board[row])\n",
    "        for col in range(len(board)):\n",
    "            if board[row] == col:\n",
    "                rowStr += \" Q\"\n",
    "            else:\n",
    "                rowStr += \" _\"\n",
    "        print(rowStr)\n",
    "    print(\"\\n\"+str(objf(board))+\"\\n\")\n"
   ]
  },
  {
   "cell_type": "code",
   "execution_count": 6,
   "metadata": {
    "collapsed": true
   },
   "outputs": [],
   "source": [
    "def nextStates(state):\n",
    "    \"\"\"\n",
    "    The nextStates function takes in a state and returns the possible states if a queen on the board is moved\n",
    "    \"\"\"\n",
    "    lst = []\n",
    "    for r in range(len(state)):\n",
    "        skpi = state[r]\n",
    "        other = list(range(len(state)))\n",
    "        other.remove(skpi)\n",
    "        for o in other:\n",
    "            nstate = list(state)\n",
    "            nstate[r] = o\n",
    "            lst.append(nstate)\n",
    "    return lst"
   ]
  },
  {
   "cell_type": "code",
   "execution_count": 7,
   "metadata": {
    "collapsed": true
   },
   "outputs": [],
   "source": [
    "def kBeamSearch(k, num):\n",
    "    \"\"\"\n",
    "    The kBeamSearch function takes in a k value and a number of queens to evaluate. It then runs a local beam search with\n",
    "    k different values searched for each iteration. It generates k states and checks to see if any of them are a goal state. If \n",
    "    no states are goal states, it then generates all successors of our k states, and chooses the k best states. While doing this,\n",
    "    it keeps track of the best state. If none of the k best states are better than our best state, then it returns the best \n",
    "    state.\n",
    "    \"\"\"\n",
    "    goal = num*(num-1)\n",
    "    #First, we randomly generate k initial states\n",
    "    states = []\n",
    "    best = [1,1,1,1,1,1,1,1] \n",
    "    for i in range(k):\n",
    "        state = restart(num)\n",
    "        if(objf(state) == goal):\n",
    "            #If one of our random states is a goal state, we return that state\n",
    "            return state\n",
    "        states.append(state)\n",
    "        if (objf(state) > objf(best)):\n",
    "            best = state #we keep track of the best state we start with\n",
    "    \n",
    "    for x in range(100):\n",
    "        #We then generate all successors of our k states\n",
    "        nextGen = []\n",
    "        for i in range(k):\n",
    "            nextGen += nextStates(states[i])\n",
    "        #We then find the k best states of our successors\n",
    "        \n",
    "        worseThanBest = 0 #technically, worse than or equal to, but this is shorter\n",
    "        for i in range(k):\n",
    "            m = list(map(objf, nextGen))\n",
    "            next = nextGen[m.index(max(m))]\n",
    "            nextGen.remove(next)\n",
    "            if objf(next) <= objf(best): \n",
    "                #we continue to track our best state, and if no state is better than the best state, the best state is returned\n",
    "                worseThanBest+=1\n",
    "            else:\n",
    "                best = next\n",
    "            states[i] = next\n",
    "            if worseThanBest == k:\n",
    "                return best\n",
    "            \n",
    "            \n",
    "    return best"
   ]
  },
  {
   "cell_type": "code",
   "execution_count": null,
   "metadata": {},
   "outputs": [
    {
     "name": "stdout",
     "output_type": "stream",
     "text": [
      "---------------------------------------------------0----------------------------------------------------\n",
      "---------------------------------------------------1----------------------------------------------------\n",
      "---------------------------------------------------2----------------------------------------------------\n",
      "---------------------------------------------------3----------------------------------------------------\n",
      "---------------------------------------------------4----------------------------------------------------\n",
      "---------------------------------------------------5----------------------------------------------------\n",
      "---------------------------------------------------6----------------------------------------------------\n",
      "---------------------------------------------------7----------------------------------------------------\n",
      "---------------------------------------------------8----------------------------------------------------\n",
      "---------------------------------------------------9----------------------------------------------------\n",
      "---------------------------------------------------10----------------------------------------------------\n",
      "---------------------------------------------------11----------------------------------------------------\n",
      "---------------------------------------------------12----------------------------------------------------\n",
      "---------------------------------------------------13----------------------------------------------------\n",
      "---------------------------------------------------14----------------------------------------------------\n",
      "---------------------------------------------------15----------------------------------------------------\n",
      "---------------------------------------------------16----------------------------------------------------\n",
      "---------------------------------------------------17----------------------------------------------------\n",
      "---------------------------------------------------18----------------------------------------------------\n",
      "---------------------------------------------------19----------------------------------------------------\n",
      "---------------------------------------------------20----------------------------------------------------\n",
      "---------------------------------------------------21----------------------------------------------------\n",
      "---------------------------------------------------22----------------------------------------------------\n",
      "---------------------------------------------------23----------------------------------------------------\n",
      "---------------------------------------------------24----------------------------------------------------\n",
      "---------------------------------------------------25----------------------------------------------------\n",
      "---------------------------------------------------26----------------------------------------------------\n",
      "---------------------------------------------------27----------------------------------------------------\n",
      "---------------------------------------------------28----------------------------------------------------\n",
      "---------------------------------------------------29----------------------------------------------------\n",
      "---------------------------------------------------30----------------------------------------------------\n",
      "---------------------------------------------------31----------------------------------------------------\n",
      "---------------------------------------------------32----------------------------------------------------\n",
      "---------------------------------------------------33----------------------------------------------------\n",
      "---------------------------------------------------34----------------------------------------------------\n",
      "---------------------------------------------------35----------------------------------------------------\n",
      "---------------------------------------------------36----------------------------------------------------\n",
      "---------------------------------------------------37----------------------------------------------------\n",
      "---------------------------------------------------38----------------------------------------------------\n",
      "---------------------------------------------------39----------------------------------------------------\n",
      "---------------------------------------------------40----------------------------------------------------\n",
      "---------------------------------------------------41----------------------------------------------------\n",
      "---------------------------------------------------42----------------------------------------------------\n",
      "---------------------------------------------------43----------------------------------------------------\n",
      "---------------------------------------------------44----------------------------------------------------\n",
      "---------------------------------------------------45----------------------------------------------------\n",
      "---------------------------------------------------46----------------------------------------------------\n",
      "---------------------------------------------------47----------------------------------------------------\n",
      "---------------------------------------------------48----------------------------------------------------\n",
      "---------------------------------------------------49----------------------------------------------------\n",
      "---------------------------------------------------50----------------------------------------------------\n",
      "---------------------------------------------------51----------------------------------------------------\n",
      "---------------------------------------------------52----------------------------------------------------\n",
      "---------------------------------------------------53----------------------------------------------------\n",
      "---------------------------------------------------54----------------------------------------------------\n",
      "---------------------------------------------------55----------------------------------------------------\n",
      "---------------------------------------------------56----------------------------------------------------\n",
      "---------------------------------------------------57----------------------------------------------------\n",
      "---------------------------------------------------58----------------------------------------------------\n",
      "---------------------------------------------------59----------------------------------------------------\n"
     ]
    }
   ],
   "source": [
    "goal = 8*(8-1)\n",
    "allResults = [] #List of all result lists\n",
    "allAvgObjf = [] #list of each average objf result\n",
    "allGoals = [] #List of each 'number of goals' found\n",
    "for k in range(100):\n",
    "    print(\"---------------------------------------------------\"+str(k)+\"----------------------------------------------------\")\n",
    "    results = [] #all fifty results found for this k value\n",
    "    goals = 0\n",
    "    for count in range(10):\n",
    "        results.append(objf(kBeamSearch(k+1, 8)))\n",
    "        if results[count] == goal:\n",
    "            goals += 1\n",
    "    allResults.append(results)\n",
    "    averageObjf = sum(results)/len(results)\n",
    "    allAvgObjf.append(averageObjf)\n",
    "    allGoals.append(goals)\n",
    "    \n",
    "    \n",
    "print(\"AllResults: \"+str(allResults))\n",
    "print(\"AllAverageObjf: \"+str(allAvgObjf))\n",
    "print(\"AllGoals: \"+str(allGoals))\n",
    "\n",
    "plt.figure(1)\n",
    "plt.subplot(131)\n",
    "plt.plot(range(100), allAvgObjf)\n",
    "plt.xlabel(\"Value of k\")\n",
    "plt.ylabel(\"Average Final Objf Value\")\n",
    "\n",
    "plt.figure(2)\n",
    "plt.subplot(132)\n",
    "plt.plot(range(100), allGoals)\n",
    "plt.xlabel(\"Value of k\")\n",
    "plt.ylabel(\"Average times final state was goal state\")\n",
    "plt.show()\n",
    "\n",
    "print(\"Number of times goal was found: \"+str(sum(allGoals)))\n",
    "print(\"Percentage goal was found: \"+str(10*len(allGoals)/1000))\n",
    "print(\"Mean of objf results: \"+str(sum(allAvgObjf)/len(allAvgObjf)))"
   ]
  },
  {
   "cell_type": "markdown",
   "metadata": {
    "collapsed": true
   },
   "source": [
    "o Is k-beam\tsearch complete?\n",
    "\n",
    "k beam search is not complete. It is possible for the search to find a local maximum or a number of local maxima such that no\n",
    "goal is generated from the successor states, but also no better state is generated than our best state. Thus, the search can\n",
    "terminate having found no goal state.\n",
    "\n",
    "o Is there a point where a higher k no longer provides value?  Explain why or why \n",
    "not?\n",
    "\n",
    "There is a point where more k beams provide diminishing returns. You want a large enough k to search multiple states, but not\n",
    "so large that you are exploring an unneccessary number of your successor states. \n",
    "\n",
    "o Is k-beam search effective when the number of states is infinite?\n",
    "\n",
    "When the number of states is infinite, no states are pruned on each level and the search functions identical to a breadth\n",
    "first search. This is not ineffective, per se, but it is far less useful than a k beam search with a lower k value."
   ]
  },
  {
   "cell_type": "code",
   "execution_count": null,
   "metadata": {
    "collapsed": true
   },
   "outputs": [],
   "source": []
  },
  {
   "cell_type": "code",
   "execution_count": null,
   "metadata": {
    "collapsed": true
   },
   "outputs": [],
   "source": []
  },
  {
   "cell_type": "code",
   "execution_count": null,
   "metadata": {
    "collapsed": true
   },
   "outputs": [],
   "source": []
  },
  {
   "cell_type": "code",
   "execution_count": null,
   "metadata": {
    "collapsed": true
   },
   "outputs": [],
   "source": []
  }
 ],
 "metadata": {
  "kernelspec": {
   "display_name": "Python 3",
   "language": "python",
   "name": "python3"
  },
  "language_info": {
   "codemirror_mode": {
    "name": "ipython",
    "version": 3
   },
   "file_extension": ".py",
   "mimetype": "text/x-python",
   "name": "python",
   "nbconvert_exporter": "python",
   "pygments_lexer": "ipython3",
   "version": "3.6.3"
  }
 },
 "nbformat": 4,
 "nbformat_minor": 2
}
